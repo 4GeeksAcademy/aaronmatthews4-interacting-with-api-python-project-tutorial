{
    "cells": [
        {
            "cell_type": "markdown",
            "metadata": {},
            "source": [
                "# Explore here"
            ]
        },
        {
            "cell_type": "code",
            "execution_count": 1,
            "metadata": {},
            "outputs": [
                {
                    "data": {
                        "text/plain": [
                            "'724828ce5ceb4fcca2e21b33b864cbb3'"
                        ]
                    },
                    "execution_count": 1,
                    "metadata": {},
                    "output_type": "execute_result"
                }
            ],
            "source": [
                "import os\n",
                "import pandas as pd\n",
                "from dotenv import load_dotenv\n",
                "\n",
                "# pip install spotipy\n",
                "\n",
                "# load the .env file variables\n",
                "load_dotenv()\n",
                "\n",
                "from dotenv import load_dotenv\n",
                "load_dotenv()\n",
                "\n",
                "import os\n",
                "\n",
                "client_id = os.environ.get(\"CLIENT_ID\")\n",
                "client_secret = os.environ.get(\"CLIENT_SECRET\")\n",
                "\n",
                "client_id\n",
                "\n",
                "\n"
            ]
        },
        {
            "cell_type": "code",
            "execution_count": 2,
            "metadata": {},
            "outputs": [
                {
                    "name": "stdout",
                    "output_type": "stream",
                    "text": [
                        "Access token obtained!\n"
                    ]
                }
            ],
            "source": [
                "import base64\n",
                "import requests\n",
                "\n",
                "# Encode the client credentials\n",
                "client_credentials = f\"{client_id}:{client_secret}\"\n",
                "client_credentials_base64 = base64.b64encode(client_credentials.encode())\n",
                "\n",
                "# Prepare the token request\n",
                "token_url = \"https://accounts.spotify.com/api/token\"\n",
                "headers = {\n",
                "    \"Authorization\": f\"Basic {client_credentials_base64.decode()}\"\n",
                "}\n",
                "data = {\n",
                "    \"grant_type\": \"client_credentials\"\n",
                "}\n",
                "\n",
                "# Request access token\n",
                "response = requests.post(token_url, headers=headers, data=data)\n",
                "\n",
                "# Check if the request was successful\n",
                "if response.status_code == 200:\n",
                "    access_token = response.json()['access_token']\n",
                "    print(\"Access token obtained!\")\n",
                "else:\n",
                "    print(f\"Failed to obtain access token. Status code: {response.status_code}\")\n",
                "    print(response.text)"
            ]
        },
        {
            "cell_type": "code",
            "execution_count": 3,
            "metadata": {},
            "outputs": [],
            "source": [
                "#access_token"
            ]
        },
        {
            "cell_type": "code",
            "execution_count": 4,
            "metadata": {},
            "outputs": [
                {
                    "name": "stdout",
                    "output_type": "stream",
                    "text": [
                        "Found artist: Travis Scott (ID: 0Y5tJX1MQlPlqiwlOH1tJY)\n"
                    ]
                }
            ],
            "source": [
                "# Set the access token in the headers\n",
                "headers = {\n",
                "    \"Authorization\": f\"Bearer {access_token}\"\n",
                "}\n",
                "\n",
                "# Define the endpoint and parameters\n",
                "search_url = \"https://api.spotify.com/v1/search\"\n",
                "params = {\n",
                "    \"q\": \"Travis Scott\",  # Artist name to search for\n",
                "    \"type\": \"artist\",\n",
                "    \"limit\": 1\n",
                "}\n",
                "\n",
                "# Make the API request to search for the artist\n",
                "response = requests.get(search_url, headers=headers, params=params)\n",
                "\n",
                "# Check if the request was successful\n",
                "if response.status_code == 200:\n",
                "    response_data = response.json()\n",
                "    # print(f\"Response Data: {response_data}\")\n",
                "    artist_id = response_data['artists']['items'][0]['id']\n",
                "    artist_name = response_data['artists']['items'][0]['name']\n",
                "    print(f\"Found artist: {artist_name} (ID: {artist_id})\")\n",
                "else:\n",
                "    print(f\"Failed to search for artist. Status code: {response.status_code}\")\n",
                "    print(response.text)"
            ]
        },
        {
            "cell_type": "code",
            "execution_count": 5,
            "metadata": {},
            "outputs": [
                {
                    "name": "stdout",
                    "output_type": "stream",
                    "text": [
                        "Top tracks for Travis Scott:\n",
                        "1. FE!N (feat. Playboi Carti) - Album: UTOPIA\n",
                        "2. goosebumps - Album: Birds In The Trap Sing McKnight\n",
                        "3. HIGHEST IN THE ROOM - Album: HIGHEST IN THE ROOM\n",
                        "4. Type Shit - Album: WE DON'T TRUST YOU\n",
                        "5. BUTTERFLY EFFECT - Album: ASTROWORLD\n",
                        "6. Open Arms (feat. Travis Scott) - Album: SOS\n",
                        "7. I KNOW ? - Album: UTOPIA\n",
                        "8. MY EYES - Album: UTOPIA\n",
                        "9. Trance (with Travis Scott & Young Thug) - Album: HEROES & VILLAINS\n",
                        "10. SICKO MODE - Album: ASTROWORLD\n"
                    ]
                }
            ],
            "source": [
                "# Define the endpoint for the artist's top tracks\n",
                "top_tracks_url = f\"https://api.spotify.com/v1/artists/{artist_id}/top-tracks\"\n",
                "params = {\n",
                "    \"market\": \"US\"  # Specify the market (country)\n",
                "}\n",
                "\n",
                "# Make the API request to get top tracks\n",
                "response = requests.get(top_tracks_url, headers=headers, params=params)\n",
                "\n",
                "# Check if the request was successful\n",
                "if response.status_code == 200:\n",
                "    top_tracks_data = response.json()\n",
                "    print(f\"Top tracks for {artist_name}:\")\n",
                "    for idx, track in enumerate(top_tracks_data['tracks'], start=1):\n",
                "        # print(f\"Track data: {track}\")\n",
                "        track_name = track['name']\n",
                "        album_name = track['album']['name']\n",
                "        print(f\"{idx}. {track_name} - Album: {album_name}\")\n",
                "else:\n",
                "    print(f\"Failed to get top tracks. Status code: {response.status_code}\")\n",
                "    print(response.text)"
            ]
        },
        {
            "cell_type": "code",
            "execution_count": 6,
            "metadata": {},
            "outputs": [
                {
                    "name": "stdout",
                    "output_type": "stream",
                    "text": [
                        "Access token obtained successfully.\n"
                    ]
                }
            ],
            "source": [
                "def get_access_token(client_id, client_secret):\n",
                "    try:\n",
                "        # Encoding and token request as before\n",
                "        client_credentials = f\"{client_id}:{client_secret}\"\n",
                "        client_credentials_base64 = base64.b64encode(client_credentials.encode())\n",
                "        token_url = \"https://accounts.spotify.com/api/token\"\n",
                "        headers = {\n",
                "            \"Authorization\": f\"Basic {client_credentials_base64.decode()}\"\n",
                "        }\n",
                "        data = {\n",
                "            \"grant_type\": \"client_credentials\"\n",
                "        }\n",
                "        response = requests.post(token_url, headers=headers, data=data)\n",
                "        response.raise_for_status()  # Raises an HTTPError for bad status codes\n",
                "        access_token = response.json()['access_token']\n",
                "        return access_token\n",
                "    except requests.exceptions.HTTPError as err:\n",
                "        print(f\"HTTP error occurred: {err}\")\n",
                "    except Exception as err:\n",
                "        print(f\"An error occurred: {err}\")\n",
                "    return None\n",
                "\n",
                "# Use the function to get the access token\n",
                "access_token = get_access_token(client_id, client_secret)\n",
                "if access_token:\n",
                "    print(\"Access token obtained successfully.\")\n",
                "else:\n",
                "    print(\"Failed to obtain access token.\")"
            ]
        },
        {
            "cell_type": "code",
            "execution_count": 11,
            "metadata": {},
            "outputs": [
                {
                    "name": "stdout",
                    "output_type": "stream",
                    "text": [
                        "Top tracks for Travis Scott:\n",
                        "1. FE!N (feat. Playboi Carti) - Album: UTOPIA, Popularity: 89, Duration: 191700 ms\n",
                        "2. goosebumps - Album: Birds In The Trap Sing McKnight, Popularity: 86, Duration: 243836 ms\n",
                        "3. HIGHEST IN THE ROOM - Album: HIGHEST IN THE ROOM, Popularity: 85, Duration: 175720 ms\n",
                        "4. Type Shit - Album: WE DON'T TRUST YOU, Popularity: 85, Duration: 228266 ms\n",
                        "5. BUTTERFLY EFFECT - Album: ASTROWORLD, Popularity: 83, Duration: 190557 ms\n",
                        "6. Open Arms (feat. Travis Scott) - Album: SOS, Popularity: 81, Duration: 239613 ms\n",
                        "7. I KNOW ? - Album: UTOPIA, Popularity: 83, Duration: 211582 ms\n",
                        "8. MY EYES - Album: UTOPIA, Popularity: 83, Duration: 251249 ms\n",
                        "9. Trance (with Travis Scott & Young Thug) - Album: HEROES & VILLAINS, Popularity: 82, Duration: 194786 ms\n",
                        "10. SICKO MODE - Album: ASTROWORLD, Popularity: 81, Duration: 312820 ms\n",
                        "Failed to get top tracks. Status code: 200\n",
                        "{\"tracks\":[{\"album\":{\"album_type\":\"album\",\"artists\":[{\"external_urls\":{\"spotify\":\"https://open.spotify.com/artist/0Y5tJX1MQlPlqiwlOH1tJY\"},\"href\":\"https://api.spotify.com/v1/artists/0Y5tJX1MQlPlqiwlOH1tJY\",\"id\":\"0Y5tJX1MQlPlqiwlOH1tJY\",\"name\":\"Travis Scott\",\"type\":\"artist\",\"uri\":\"spotify:artist:0Y5tJX1MQlPlqiwlOH1tJY\"}],\"external_urls\":{\"spotify\":\"https://open.spotify.com/album/18NOKLkZETa4sWwLMIm0UZ\"},\"href\":\"https://api.spotify.com/v1/albums/18NOKLkZETa4sWwLMIm0UZ\",\"id\":\"18NOKLkZETa4sWwLMIm0UZ\",\"images\":[{\"url\":\"https://i.scdn.co/image/ab67616d0000b273881d8d8378cd01099babcd44\",\"width\":640,\"height\":640},{\"url\":\"https://i.scdn.co/image/ab67616d00001e02881d8d8378cd01099babcd44\",\"width\":300,\"height\":300},{\"url\":\"https://i.scdn.co/image/ab67616d00004851881d8d8378cd01099babcd44\",\"width\":64,\"height\":64}],\"is_playable\":true,\"name\":\"UTOPIA\",\"release_date\":\"2023-07-28\",\"release_date_precision\":\"day\",\"total_tracks\":19,\"type\":\"album\",\"uri\":\"spotify:album:18NOKLkZETa4sWwLMIm0UZ\"},\"artists\":[{\"external_urls\":{\"spotify\":\"https://open.spotify.com/artist/0Y5tJX1MQlPlqiwlOH1tJY\"},\"href\":\"https://api.spotify.com/v1/artists/0Y5tJX1MQlPlqiwlOH1tJY\",\"id\":\"0Y5tJX1MQlPlqiwlOH1tJY\",\"name\":\"Travis Scott\",\"type\":\"artist\",\"uri\":\"spotify:artist:0Y5tJX1MQlPlqiwlOH1tJY\"},{\"external_urls\":{\"spotify\":\"https://open.spotify.com/artist/699OTQXzgjhIYAHMy9RyPD\"},\"href\":\"https://api.spotify.com/v1/artists/699OTQXzgjhIYAHMy9RyPD\",\"id\":\"699OTQXzgjhIYAHMy9RyPD\",\"name\":\"Playboi Carti\",\"type\":\"artist\",\"uri\":\"spotify:artist:699OTQXzgjhIYAHMy9RyPD\"}],\"disc_number\":1,\"duration_ms\":191700,\"explicit\":true,\"external_ids\":{\"isrc\":\"USSM12305010\"},\"external_urls\":{\"spotify\":\"https://open.spotify.com/track/42VsgItocQwOQC3XWZ8JNA\"},\"href\":\"https://api.spotify.com/v1/tracks/42VsgItocQwOQC3XWZ8JNA\",\"id\":\"42VsgItocQwOQC3XWZ8JNA\",\"is_local\":false,\"is_playable\":true,\"name\":\"FE!N (feat. Playboi Carti)\",\"popularity\":89,\"preview_url\":\"https://p.scdn.co/mp3-preview/4b0178cf6991f59db18e12e2219ff11e27474b0a?cid=724828ce5ceb4fcca2e21b33b864cbb3\",\"track_number\":8,\"type\":\"track\",\"uri\":\"spotify:track:42VsgItocQwOQC3XWZ8JNA\"},{\"album\":{\"album_type\":\"album\",\"artists\":[{\"external_urls\":{\"spotify\":\"https://open.spotify.com/artist/0Y5tJX1MQlPlqiwlOH1tJY\"},\"href\":\"https://api.spotify.com/v1/artists/0Y5tJX1MQlPlqiwlOH1tJY\",\"id\":\"0Y5tJX1MQlPlqiwlOH1tJY\",\"name\":\"Travis Scott\",\"type\":\"artist\",\"uri\":\"spotify:artist:0Y5tJX1MQlPlqiwlOH1tJY\"}],\"external_urls\":{\"spotify\":\"https://open.spotify.com/album/42WVQWuf1teDysXiOupIZt\"},\"href\":\"https://api.spotify.com/v1/albums/42WVQWuf1teDysXiOupIZt\",\"id\":\"42WVQWuf1teDysXiOupIZt\",\"images\":[{\"url\":\"https://i.scdn.co/image/ab67616d0000b273f54b99bf27cda88f4a7403ce\",\"width\":640,\"height\":640},{\"url\":\"https://i.scdn.co/image/ab67616d00001e02f54b99bf27cda88f4a7403ce\",\"width\":300,\"height\":300},{\"url\":\"https://i.scdn.co/image/ab67616d00004851f54b99bf27cda88f4a7403ce\",\"width\":64,\"height\":64}],\"is_playable\":true,\"name\":\"Birds In The Trap Sing McKnight\",\"release_date\":\"2016-09-16\",\"release_date_precision\":\"day\",\"total_tracks\":14,\"type\":\"album\",\"uri\":\"spotify:album:42WVQWuf1teDysXiOupIZt\"},\"artists\":[{\"external_urls\":{\"spotify\":\"https://open.spotify.com/artist/0Y5tJX1MQlPlqiwlOH1tJY\"},\"href\":\"https://api.spotify.com/v1/artists/0Y5tJX1MQlPlqiwlOH1tJY\",\"id\":\"0Y5tJX1MQlPlqiwlOH1tJY\",\"name\":\"Travis Scott\",\"type\":\"artist\",\"uri\":\"spotify:artist:0Y5tJX1MQlPlqiwlOH1tJY\"}],\"disc_number\":1,\"duration_ms\":243836,\"explicit\":true,\"external_ids\":{\"isrc\":\"USSM11607555\"},\"external_urls\":{\"spotify\":\"https://open.spotify.com/track/6gBFPUFcJLzWGx4lenP6h2\"},\"href\":\"https://api.spotify.com/v1/tracks/6gBFPUFcJLzWGx4lenP6h2\",\"id\":\"6gBFPUFcJLzWGx4lenP6h2\",\"is_local\":false,\"is_playable\":true,\"name\":\"goosebumps\",\"popularity\":86,\"preview_url\":\"https://p.scdn.co/mp3-preview/5c45fee2743d39984ed2c1e2493d04a42d626f81?cid=724828ce5ceb4fcca2e21b33b864cbb3\",\"track_number\":9,\"type\":\"track\",\"uri\":\"spotify:track:6gBFPUFcJLzWGx4lenP6h2\"},{\"album\":{\"album_type\":\"single\",\"artists\":[{\"external_urls\":{\"spotify\":\"https://open.spotify.com/artist/0Y5tJX1MQlPlqiwlOH1tJY\"},\"href\":\"https://api.spotify.com/v1/artists/0Y5tJX1MQlPlqiwlOH1tJY\",\"id\":\"0Y5tJX1MQlPlqiwlOH1tJY\",\"name\":\"Travis Scott\",\"type\":\"artist\",\"uri\":\"spotify:artist:0Y5tJX1MQlPlqiwlOH1tJY\"}],\"external_urls\":{\"spotify\":\"https://open.spotify.com/album/2uDTi1PlpSpvAv7IRAoAEU\"},\"href\":\"https://api.spotify.com/v1/albums/2uDTi1PlpSpvAv7IRAoAEU\",\"id\":\"2uDTi1PlpSpvAv7IRAoAEU\",\"images\":[{\"url\":\"https://i.scdn.co/image/ab67616d0000b273e42b5fea4ac4c3d6328b622b\",\"width\":640,\"height\":640},{\"url\":\"https://i.scdn.co/image/ab67616d00001e02e42b5fea4ac4c3d6328b622b\",\"width\":300,\"height\":300},{\"url\":\"https://i.scdn.co/image/ab67616d00004851e42b5fea4ac4c3d6328b622b\",\"width\":64,\"height\":64}],\"is_playable\":true,\"name\":\"HIGHEST IN THE ROOM\",\"release_date\":\"2019-10-04\",\"release_date_precision\":\"day\",\"total_tracks\":1,\"type\":\"album\",\"uri\":\"spotify:album:2uDTi1PlpSpvAv7IRAoAEU\"},\"artists\":[{\"external_urls\":{\"spotify\":\"https://open.spotify.com/artist/0Y5tJX1MQlPlqiwlOH1tJY\"},\"href\":\"https://api.spotify.com/v1/artists/0Y5tJX1MQlPlqiwlOH1tJY\",\"id\":\"0Y5tJX1MQlPlqiwlOH1tJY\",\"name\":\"Travis Scott\",\"type\":\"artist\",\"uri\":\"spotify:artist:0Y5tJX1MQlPlqiwlOH1tJY\"}],\"disc_number\":1,\"duration_ms\":175720,\"explicit\":true,\"external_ids\":{\"isrc\":\"USSM11904276\"},\"external_urls\":{\"spotify\":\"https://open.spotify.com/track/3eekarcy7kvN4yt5ZFzltW\"},\"href\":\"https://api.spotify.com/v1/tracks/3eekarcy7kvN4yt5ZFzltW\",\"id\":\"3eekarcy7kvN4yt5ZFzltW\",\"is_local\":false,\"is_playable\":true,\"name\":\"HIGHEST IN THE ROOM\",\"popularity\":85,\"preview_url\":\"https://p.scdn.co/mp3-preview/387b31c31b72f0c16e33d0c78bab869b0a0f4eb3?cid=724828ce5ceb4fcca2e21b33b864cbb3\",\"track_number\":1,\"type\":\"track\",\"uri\":\"spotify:track:3eekarcy7kvN4yt5ZFzltW\"},{\"album\":{\"album_type\":\"album\",\"artists\":[{\"external_urls\":{\"spotify\":\"https://open.spotify.com/artist/1RyvyyTE3xzB2ZywiAwp0i\"},\"href\":\"https://api.spotify.com/v1/artists/1RyvyyTE3xzB2ZywiAwp0i\",\"id\":\"1RyvyyTE3xzB2ZywiAwp0i\",\"name\":\"Future\",\"type\":\"artist\",\"uri\":\"spotify:artist:1RyvyyTE3xzB2ZywiAwp0i\"},{\"external_urls\":{\"spotify\":\"https://open.spotify.com/artist/0iEtIxbK0KxaSlF7G42ZOp\"},\"href\":\"https://api.spotify.com/v1/artists/0iEtIxbK0KxaSlF7G42ZOp\",\"id\":\"0iEtIxbK0KxaSlF7G42ZOp\",\"name\":\"Metro Boomin\",\"type\":\"artist\",\"uri\":\"spotify:artist:0iEtIxbK0KxaSlF7G42ZOp\"}],\"external_urls\":{\"spotify\":\"https://open.spotify.com/album/4iqbFIdGOTzXeDtt9owjQn\"},\"href\":\"https://api.spotify.com/v1/albums/4iqbFIdGOTzXeDtt9owjQn\",\"id\":\"4iqbFIdGOTzXeDtt9owjQn\",\"images\":[{\"url\":\"https://i.scdn.co/image/ab67616d0000b273a46b07c291e6dfdee13b3ee8\",\"width\":640,\"height\":640},{\"url\":\"https://i.scdn.co/image/ab67616d00001e02a46b07c291e6dfdee13b3ee8\",\"width\":300,\"height\":300},{\"url\":\"https://i.scdn.co/image/ab67616d00004851a46b07c291e6dfdee13b3ee8\",\"width\":64,\"height\":64}],\"is_playable\":true,\"name\":\"WE DON'T TRUST YOU\",\"release_date\":\"2024-03-22\",\"release_date_precision\":\"day\",\"total_tracks\":17,\"type\":\"album\",\"uri\":\"spotify:album:4iqbFIdGOTzXeDtt9owjQn\"},\"artists\":[{\"external_urls\":{\"spotify\":\"https://open.spotify.com/artist/1RyvyyTE3xzB2ZywiAwp0i\"},\"href\":\"https://api.spotify.com/v1/artists/1RyvyyTE3xzB2ZywiAwp0i\",\"id\":\"1RyvyyTE3xzB2ZywiAwp0i\",\"name\":\"Future\",\"type\":\"artist\",\"uri\":\"spotify:artist:1RyvyyTE3xzB2ZywiAwp0i\"},{\"external_urls\":{\"spotify\":\"https://open.spotify.com/artist/0iEtIxbK0KxaSlF7G42ZOp\"},\"href\":\"https://api.spotify.com/v1/artists/0iEtIxbK0KxaSlF7G42ZOp\",\"id\":\"0iEtIxbK0KxaSlF7G42ZOp\",\"name\":\"Metro Boomin\",\"type\":\"artist\",\"uri\":\"spotify:artist:0iEtIxbK0KxaSlF7G42ZOp\"},{\"external_urls\":{\"spotify\":\"https://open.spotify.com/artist/0Y5tJX1MQlPlqiwlOH1tJY\"},\"href\":\"https://api.spotify.com/v1/artists/0Y5tJX1MQlPlqiwlOH1tJY\",\"id\":\"0Y5tJX1MQlPlqiwlOH1tJY\",\"name\":\"Travis Scott\",\"type\":\"artist\",\"uri\":\"spotify:artist:0Y5tJX1MQlPlqiwlOH1tJY\"},{\"external_urls\":{\"spotify\":\"https://open.spotify.com/artist/699OTQXzgjhIYAHMy9RyPD\"},\"href\":\"https://api.spotify.com/v1/artists/699OTQXzgjhIYAHMy9RyPD\",\"id\":\"699OTQXzgjhIYAHMy9RyPD\",\"name\":\"Playboi Carti\",\"type\":\"artist\",\"uri\":\"spotify:artist:699OTQXzgjhIYAHMy9RyPD\"}],\"disc_number\":1,\"duration_ms\":228266,\"explicit\":true,\"external_ids\":{\"isrc\":\"USSM12402033\"},\"external_urls\":{\"spotify\":\"https://open.spotify.com/track/28drn6tQo95MRvO0jQEo5C\"},\"href\":\"https://api.spotify.com/v1/tracks/28drn6tQo95MRvO0jQEo5C\",\"id\":\"28drn6tQo95MRvO0jQEo5C\",\"is_local\":false,\"is_playable\":true,\"name\":\"Type Shit\",\"popularity\":85,\"preview_url\":\"https://p.scdn.co/mp3-preview/4743d8302c54f95d6f79858b7c67764b1d45e9a3?cid=724828ce5ceb4fcca2e21b33b864cbb3\",\"track_number\":4,\"type\":\"track\",\"uri\":\"spotify:track:28drn6tQo95MRvO0jQEo5C\"},{\"album\":{\"album_type\":\"album\",\"artists\":[{\"external_urls\":{\"spotify\":\"https://open.spotify.com/artist/0Y5tJX1MQlPlqiwlOH1tJY\"},\"href\":\"https://api.spotify.com/v1/artists/0Y5tJX1MQlPlqiwlOH1tJY\",\"id\":\"0Y5tJX1MQlPlqiwlOH1tJY\",\"name\":\"Travis Scott\",\"type\":\"artist\",\"uri\":\"spotify:artist:0Y5tJX1MQlPlqiwlOH1tJY\"}],\"external_urls\":{\"spotify\":\"https://open.spotify.com/album/41GuZcammIkupMPKH2OJ6I\"},\"href\":\"https://api.spotify.com/v1/albums/41GuZcammIkupMPKH2OJ6I\",\"id\":\"41GuZcammIkupMPKH2OJ6I\",\"images\":[{\"url\":\"https://i.scdn.co/image/ab67616d0000b273072e9faef2ef7b6db63834a3\",\"width\":640,\"height\":640},{\"url\":\"https://i.scdn.co/image/ab67616d00001e02072e9faef2ef7b6db63834a3\",\"width\":300,\"height\":300},{\"url\":\"https://i.scdn.co/image/ab67616d00004851072e9faef2ef7b6db63834a3\",\"width\":64,\"height\":64}],\"is_playable\":true,\"name\":\"ASTROWORLD\",\"release_date\":\"2018-08-03\",\"release_date_precision\":\"day\",\"total_tracks\":17,\"type\":\"album\",\"uri\":\"spotify:album:41GuZcammIkupMPKH2OJ6I\"},\"artists\":[{\"external_urls\":{\"spotify\":\"https://open.spotify.com/artist/0Y5tJX1MQlPlqiwlOH1tJY\"},\"href\":\"https://api.spotify.com/v1/artists/0Y5tJX1MQlPlqiwlOH1tJY\",\"id\":\"0Y5tJX1MQlPlqiwlOH1tJY\",\"name\":\"Travis Scott\",\"type\":\"artist\",\"uri\":\"spotify:artist:0Y5tJX1MQlPlqiwlOH1tJY\"}],\"disc_number\":1,\"duration_ms\":190557,\"explicit\":false,\"external_ids\":{\"isrc\":\"USSM11704799\"},\"external_urls\":{\"spotify\":\"https://open.spotify.com/track/2cYqizR4lgvp4Qu6IQ3qGN\"},\"href\":\"https://api.spotify.com/v1/tracks/2cYqizR4lgvp4Qu6IQ3qGN\",\"id\":\"2cYqizR4lgvp4Qu6IQ3qGN\",\"is_local\":false,\"is_playable\":true,\"name\":\"BUTTERFLY EFFECT\",\"popularity\":83,\"preview_url\":\"https://p.scdn.co/mp3-preview/68cba40a7199c972c7a2ad0df063c4d1f5e3dc73?cid=724828ce5ceb4fcca2e21b33b864cbb3\",\"track_number\":15,\"type\":\"track\",\"uri\":\"spotify:track:2cYqizR4lgvp4Qu6IQ3qGN\"},{\"album\":{\"album_type\":\"album\",\"artists\":[{\"external_urls\":{\"spotify\":\"https://open.spotify.com/artist/7tYKF4w9nC0nq9CsPZTHyP\"},\"href\":\"https://api.spotify.com/v1/artists/7tYKF4w9nC0nq9CsPZTHyP\",\"id\":\"7tYKF4w9nC0nq9CsPZTHyP\",\"name\":\"SZA\",\"type\":\"artist\",\"uri\":\"spotify:artist:7tYKF4w9nC0nq9CsPZTHyP\"}],\"external_urls\":{\"spotify\":\"https://open.spotify.com/album/1nrVofqDRs7cpWXJ49qTnP\"},\"href\":\"https://api.spotify.com/v1/albums/1nrVofqDRs7cpWXJ49qTnP\",\"id\":\"1nrVofqDRs7cpWXJ49qTnP\",\"images\":[{\"url\":\"https://i.scdn.co/image/ab67616d0000b2730c471c36970b9406233842a5\",\"width\":640,\"height\":640},{\"url\":\"https://i.scdn.co/image/ab67616d00001e020c471c36970b9406233842a5\",\"width\":300,\"height\":300},{\"url\":\"https://i.scdn.co/image/ab67616d000048510c471c36970b9406233842a5\",\"width\":64,\"height\":64}],\"is_playable\":true,\"name\":\"SOS\",\"release_date\":\"2022-12-08\",\"release_date_precision\":\"day\",\"total_tracks\":23,\"type\":\"album\",\"uri\":\"spotify:album:1nrVofqDRs7cpWXJ49qTnP\"},\"artists\":[{\"external_urls\":{\"spotify\":\"https://open.spotify.com/artist/7tYKF4w9nC0nq9CsPZTHyP\"},\"href\":\"https://api.spotify.com/v1/artists/7tYKF4w9nC0nq9CsPZTHyP\",\"id\":\"7tYKF4w9nC0nq9CsPZTHyP\",\"name\":\"SZA\",\"type\":\"artist\",\"uri\":\"spotify:artist:7tYKF4w9nC0nq9CsPZTHyP\"},{\"external_urls\":{\"spotify\":\"https://open.spotify.com/artist/0Y5tJX1MQlPlqiwlOH1tJY\"},\"href\":\"https://api.spotify.com/v1/artists/0Y5tJX1MQlPlqiwlOH1tJY\",\"id\":\"0Y5tJX1MQlPlqiwlOH1tJY\",\"name\":\"Travis Scott\",\"type\":\"artist\",\"uri\":\"spotify:artist:0Y5tJX1MQlPlqiwlOH1tJY\"}],\"disc_number\":1,\"duration_ms\":239613,\"explicit\":false,\"external_ids\":{\"isrc\":\"USRC12204602\"},\"external_urls\":{\"spotify\":\"https://open.spotify.com/track/6koKhrBBcExADvWuOgceNZ\"},\"href\":\"https://api.spotify.com/v1/tracks/6koKhrBBcExADvWuOgceNZ\",\"id\":\"6koKhrBBcExADvWuOgceNZ\",\"is_local\":false,\"is_playable\":true,\"name\":\"Open Arms (feat. Travis Scott)\",\"popularity\":81,\"preview_url\":\"https://p.scdn.co/mp3-preview/3bc7e3a481a7cbaeb578f3fdd426fef59676cf42?cid=724828ce5ceb4fcca2e21b33b864cbb3\",\"track_number\":20,\"type\":\"track\",\"uri\":\"spotify:track:6koKhrBBcExADvWuOgceNZ\"},{\"album\":{\"album_type\":\"album\",\"artists\":[{\"external_urls\":{\"spotify\":\"https://open.spotify.com/artist/0Y5tJX1MQlPlqiwlOH1tJY\"},\"href\":\"https://api.spotify.com/v1/artists/0Y5tJX1MQlPlqiwlOH1tJY\",\"id\":\"0Y5tJX1MQlPlqiwlOH1tJY\",\"name\":\"Travis Scott\",\"type\":\"artist\",\"uri\":\"spotify:artist:0Y5tJX1MQlPlqiwlOH1tJY\"}],\"external_urls\":{\"spotify\":\"https://open.spotify.com/album/18NOKLkZETa4sWwLMIm0UZ\"},\"href\":\"https://api.spotify.com/v1/albums/18NOKLkZETa4sWwLMIm0UZ\",\"id\":\"18NOKLkZETa4sWwLMIm0UZ\",\"images\":[{\"url\":\"https://i.scdn.co/image/ab67616d0000b273881d8d8378cd01099babcd44\",\"width\":640,\"height\":640},{\"url\":\"https://i.scdn.co/image/ab67616d00001e02881d8d8378cd01099babcd44\",\"width\":300,\"height\":300},{\"url\":\"https://i.scdn.co/image/ab67616d00004851881d8d8378cd01099babcd44\",\"width\":64,\"height\":64}],\"is_playable\":true,\"name\":\"UTOPIA\",\"release_date\":\"2023-07-28\",\"release_date_precision\":\"day\",\"total_tracks\":19,\"type\":\"album\",\"uri\":\"spotify:album:18NOKLkZETa4sWwLMIm0UZ\"},\"artists\":[{\"external_urls\":{\"spotify\":\"https://open.spotify.com/artist/0Y5tJX1MQlPlqiwlOH1tJY\"},\"href\":\"https://api.spotify.com/v1/artists/0Y5tJX1MQlPlqiwlOH1tJY\",\"id\":\"0Y5tJX1MQlPlqiwlOH1tJY\",\"name\":\"Travis Scott\",\"type\":\"artist\",\"uri\":\"spotify:artist:0Y5tJX1MQlPlqiwlOH1tJY\"}],\"disc_number\":1,\"duration_ms\":211582,\"explicit\":true,\"external_ids\":{\"isrc\":\"USSM12305012\"},\"external_urls\":{\"spotify\":\"https://open.spotify.com/track/6wsqVwoiVH2kde4k4KKAFU\"},\"href\":\"https://api.spotify.com/v1/tracks/6wsqVwoiVH2kde4k4KKAFU\",\"id\":\"6wsqVwoiVH2kde4k4KKAFU\",\"is_local\":false,\"is_playable\":true,\"name\":\"I KNOW ?\",\"popularity\":83,\"preview_url\":\"https://p.scdn.co/mp3-preview/71d86e04987feee653ae3087aa76e782bced382d?cid=724828ce5ceb4fcca2e21b33b864cbb3\",\"track_number\":10,\"type\":\"track\",\"uri\":\"spotify:track:6wsqVwoiVH2kde4k4KKAFU\"},{\"album\":{\"album_type\":\"album\",\"artists\":[{\"external_urls\":{\"spotify\":\"https://open.spotify.com/artist/0Y5tJX1MQlPlqiwlOH1tJY\"},\"href\":\"https://api.spotify.com/v1/artists/0Y5tJX1MQlPlqiwlOH1tJY\",\"id\":\"0Y5tJX1MQlPlqiwlOH1tJY\",\"name\":\"Travis Scott\",\"type\":\"artist\",\"uri\":\"spotify:artist:0Y5tJX1MQlPlqiwlOH1tJY\"}],\"external_urls\":{\"spotify\":\"https://open.spotify.com/album/18NOKLkZETa4sWwLMIm0UZ\"},\"href\":\"https://api.spotify.com/v1/albums/18NOKLkZETa4sWwLMIm0UZ\",\"id\":\"18NOKLkZETa4sWwLMIm0UZ\",\"images\":[{\"url\":\"https://i.scdn.co/image/ab67616d0000b273881d8d8378cd01099babcd44\",\"width\":640,\"height\":640},{\"url\":\"https://i.scdn.co/image/ab67616d00001e02881d8d8378cd01099babcd44\",\"width\":300,\"height\":300},{\"url\":\"https://i.scdn.co/image/ab67616d00004851881d8d8378cd01099babcd44\",\"width\":64,\"height\":64}],\"is_playable\":true,\"name\":\"UTOPIA\",\"release_date\":\"2023-07-28\",\"release_date_precision\":\"day\",\"total_tracks\":19,\"type\":\"album\",\"uri\":\"spotify:album:18NOKLkZETa4sWwLMIm0UZ\"},\"artists\":[{\"external_urls\":{\"spotify\":\"https://open.spotify.com/artist/0Y5tJX1MQlPlqiwlOH1tJY\"},\"href\":\"https://api.spotify.com/v1/artists/0Y5tJX1MQlPlqiwlOH1tJY\",\"id\":\"0Y5tJX1MQlPlqiwlOH1tJY\",\"name\":\"Travis Scott\",\"type\":\"artist\",\"uri\":\"spotify:artist:0Y5tJX1MQlPlqiwlOH1tJY\"}],\"disc_number\":1,\"duration_ms\":251249,\"explicit\":true,\"external_ids\":{\"isrc\":\"USSM12305007\"},\"external_urls\":{\"spotify\":\"https://open.spotify.com/track/4kjI1gwQZRKNDkw1nI475M\"},\"href\":\"https://api.spotify.com/v1/tracks/4kjI1gwQZRKNDkw1nI475M\",\"id\":\"4kjI1gwQZRKNDkw1nI475M\",\"is_local\":false,\"is_playable\":true,\"name\":\"MY EYES\",\"popularity\":83,\"preview_url\":\"https://p.scdn.co/mp3-preview/b52f66d1d36c1253c12a96b673fca7f69f62b4ab?cid=724828ce5ceb4fcca2e21b33b864cbb3\",\"track_number\":4,\"type\":\"track\",\"uri\":\"spotify:track:4kjI1gwQZRKNDkw1nI475M\"},{\"album\":{\"album_type\":\"album\",\"artists\":[{\"external_urls\":{\"spotify\":\"https://open.spotify.com/artist/0iEtIxbK0KxaSlF7G42ZOp\"},\"href\":\"https://api.spotify.com/v1/artists/0iEtIxbK0KxaSlF7G42ZOp\",\"id\":\"0iEtIxbK0KxaSlF7G42ZOp\",\"name\":\"Metro Boomin\",\"type\":\"artist\",\"uri\":\"spotify:artist:0iEtIxbK0KxaSlF7G42ZOp\"}],\"external_urls\":{\"spotify\":\"https://open.spotify.com/album/7txGsnDSqVMoRl6RQ9XyZP\"},\"href\":\"https://api.spotify.com/v1/albums/7txGsnDSqVMoRl6RQ9XyZP\",\"id\":\"7txGsnDSqVMoRl6RQ9XyZP\",\"images\":[{\"url\":\"https://i.scdn.co/image/ab67616d0000b273c4fee55d7b51479627c31f89\",\"width\":640,\"height\":640},{\"url\":\"https://i.scdn.co/image/ab67616d00001e02c4fee55d7b51479627c31f89\",\"width\":300,\"height\":300},{\"url\":\"https://i.scdn.co/image/ab67616d00004851c4fee55d7b51479627c31f89\",\"width\":64,\"height\":64}],\"is_playable\":true,\"name\":\"HEROES & VILLAINS\",\"release_date\":\"2022-12-02\",\"release_date_precision\":\"day\",\"total_tracks\":15,\"type\":\"album\",\"uri\":\"spotify:album:7txGsnDSqVMoRl6RQ9XyZP\"},\"artists\":[{\"external_urls\":{\"spotify\":\"https://open.spotify.com/artist/0iEtIxbK0KxaSlF7G42ZOp\"},\"href\":\"https://api.spotify.com/v1/artists/0iEtIxbK0KxaSlF7G42ZOp\",\"id\":\"0iEtIxbK0KxaSlF7G42ZOp\",\"name\":\"Metro Boomin\",\"type\":\"artist\",\"uri\":\"spotify:artist:0iEtIxbK0KxaSlF7G42ZOp\"},{\"external_urls\":{\"spotify\":\"https://open.spotify.com/artist/0Y5tJX1MQlPlqiwlOH1tJY\"},\"href\":\"https://api.spotify.com/v1/artists/0Y5tJX1MQlPlqiwlOH1tJY\",\"id\":\"0Y5tJX1MQlPlqiwlOH1tJY\",\"name\":\"Travis Scott\",\"type\":\"artist\",\"uri\":\"spotify:artist:0Y5tJX1MQlPlqiwlOH1tJY\"},{\"external_urls\":{\"spotify\":\"https://open.spotify.com/artist/50co4Is1HCEo8bhOyUWKpn\"},\"href\":\"https://api.spotify.com/v1/artists/50co4Is1HCEo8bhOyUWKpn\",\"id\":\"50co4Is1HCEo8bhOyUWKpn\",\"name\":\"Young Thug\",\"type\":\"artist\",\"uri\":\"spotify:artist:50co4Is1HCEo8bhOyUWKpn\"}],\"disc_number\":1,\"duration_ms\":194786,\"explicit\":true,\"external_ids\":{\"isrc\":\"USUG12208787\"},\"external_urls\":{\"spotify\":\"https://open.spotify.com/track/5wG3HvLhF6Y5KTGlK0IW3J\"},\"href\":\"https://api.spotify.com/v1/tracks/5wG3HvLhF6Y5KTGlK0IW3J\",\"id\":\"5wG3HvLhF6Y5KTGlK0IW3J\",\"is_local\":false,\"is_playable\":true,\"name\":\"Trance (with Travis Scott & Young Thug)\",\"popularity\":82,\"track_number\":6,\"type\":\"track\",\"uri\":\"spotify:track:5wG3HvLhF6Y5KTGlK0IW3J\"},{\"album\":{\"album_type\":\"album\",\"artists\":[{\"external_urls\":{\"spotify\":\"https://open.spotify.com/artist/0Y5tJX1MQlPlqiwlOH1tJY\"},\"href\":\"https://api.spotify.com/v1/artists/0Y5tJX1MQlPlqiwlOH1tJY\",\"id\":\"0Y5tJX1MQlPlqiwlOH1tJY\",\"name\":\"Travis Scott\",\"type\":\"artist\",\"uri\":\"spotify:artist:0Y5tJX1MQlPlqiwlOH1tJY\"}],\"external_urls\":{\"spotify\":\"https://open.spotify.com/album/41GuZcammIkupMPKH2OJ6I\"},\"href\":\"https://api.spotify.com/v1/albums/41GuZcammIkupMPKH2OJ6I\",\"id\":\"41GuZcammIkupMPKH2OJ6I\",\"images\":[{\"url\":\"https://i.scdn.co/image/ab67616d0000b273072e9faef2ef7b6db63834a3\",\"width\":640,\"height\":640},{\"url\":\"https://i.scdn.co/image/ab67616d00001e02072e9faef2ef7b6db63834a3\",\"width\":300,\"height\":300},{\"url\":\"https://i.scdn.co/image/ab67616d00004851072e9faef2ef7b6db63834a3\",\"width\":64,\"height\":64}],\"is_playable\":true,\"name\":\"ASTROWORLD\",\"release_date\":\"2018-08-03\",\"release_date_precision\":\"day\",\"total_tracks\":17,\"type\":\"album\",\"uri\":\"spotify:album:41GuZcammIkupMPKH2OJ6I\"},\"artists\":[{\"external_urls\":{\"spotify\":\"https://open.spotify.com/artist/0Y5tJX1MQlPlqiwlOH1tJY\"},\"href\":\"https://api.spotify.com/v1/artists/0Y5tJX1MQlPlqiwlOH1tJY\",\"id\":\"0Y5tJX1MQlPlqiwlOH1tJY\",\"name\":\"Travis Scott\",\"type\":\"artist\",\"uri\":\"spotify:artist:0Y5tJX1MQlPlqiwlOH1tJY\"}],\"disc_number\":1,\"duration_ms\":312820,\"explicit\":true,\"external_ids\":{\"isrc\":\"USSM11806660\"},\"external_urls\":{\"spotify\":\"https://open.spotify.com/track/2xLMifQCjDGFmkHkpNLD9h\"},\"href\":\"https://api.spotify.com/v1/tracks/2xLMifQCjDGFmkHkpNLD9h\",\"id\":\"2xLMifQCjDGFmkHkpNLD9h\",\"is_local\":false,\"is_playable\":true,\"name\":\"SICKO MODE\",\"popularity\":81,\"preview_url\":\"https://p.scdn.co/mp3-preview/8229545ded5cacf393f62b17af653dfc8171fc85?cid=724828ce5ceb4fcca2e21b33b864cbb3\",\"track_number\":3,\"type\":\"track\",\"uri\":\"spotify:track:2xLMifQCjDGFmkHkpNLD9h\"}]}\n"
                    ]
                }
            ],
            "source": [
                "\n",
                "\n",
                "top_tracks_url = f\"https://api.spotify.com/v1/artists/{artist_id}/top-tracks\"\n",
                "params = {\n",
                "    \"market\": \"US\"  \n",
                "}\n",
                "\n",
                "\n",
                "response = requests.get(top_tracks_url, headers=headers, params=params)\n",
                "\n",
                "\n",
                "if response.status_code == 200:\n",
                "    top_tracks_data = response.json()\n",
                "    print(f\"Top tracks for {artist_name}:\")\n",
                "for idx, track in enumerate(top_tracks_data['tracks'], start=1):\n",
                "      \n",
                "\n",
                "    track_name = track['name']\n",
                "    album_name = track['album']['name']\n",
                "    popularity = track['popularity']  \n",
                "    duration_ms = track['duration_ms']  \n",
                "    \n",
                "   \n",
                "    print(f\"{idx}. {track_name} - Album: {album_name}, Popularity: {popularity}, Duration: {duration_ms} ms\")\n",
                "\n",
                "else:\n",
                "    print(f\"Failed to get top tracks. Status code: {response.status_code}\")\n",
                "    print(response.text)\n",
                "\n",
                "   \n",
                "\n",
                "\n"
            ]
        },
        {
            "cell_type": "code",
            "execution_count": 13,
            "metadata": {},
            "outputs": [
                {
                    "name": "stdout",
                    "output_type": "stream",
                    "text": [
                        "Top 3 Songs by Increasing Popularity:\n",
                        "                                Track Name              Album  Popularity  \\\n",
                        "5           Open Arms (feat. Travis Scott)                SOS          81   \n",
                        "9                               SICKO MODE         ASTROWORLD          81   \n",
                        "8  Trance (with Travis Scott & Young Thug)  HEROES & VILLAINS          82   \n",
                        "\n",
                        "   Duration (ms)  \n",
                        "5         239613  \n",
                        "9         312820  \n",
                        "8         194786  \n"
                    ]
                }
            ],
            "source": [
                "import pandas as pd\n",
                "\n",
                "\n",
                "tracks_data = []\n",
                "\n",
                "\n",
                "for idx, track in enumerate(top_tracks_data['tracks'], start=1):\n",
                "    track_name = track['name']\n",
                "    album_name = track['album']['name']\n",
                "    popularity = track['popularity']\n",
                "    duration_ms = track['duration_ms']\n",
                "    \n",
                "   \n",
                "    tracks_data.append({\n",
                "        \"Track Name\": track_name,\n",
                "        \"Album\": album_name,\n",
                "        \"Popularity\": popularity,\n",
                "        \"Duration (ms)\": duration_ms\n",
                "    })\n",
                "\n",
                "\n",
                "df_tracks = pd.DataFrame(tracks_data)\n",
                "\n",
                "\n",
                "df_tracks_sorted = df_tracks.sort_values(by=\"Popularity\", ascending=True)\n",
                "\n",
                "\n",
                "print(\"Top 3 Songs by Increasing Popularity:\")\n",
                "print(df_tracks_sorted.head(3))\n"
            ]
        },
        {
            "cell_type": "code",
            "execution_count": 20,
            "metadata": {},
            "outputs": [
                {
                    "data": {
                        "image/png": "[encoded data removed]",
                        "text/plain": [
                            "<Figure size 1000x600 with 1 Axes>"
                        ]
                    },
                    "metadata": {},
                    "output_type": "display_data"
                }
            ],
            "source": [
                "import matplotlib.pyplot as plt\n",
                "\n",
                "\n",
                "plt.figure(figsize=(10, 6))\n",
                "plt.scatter(df_tracks_sorted['Duration (ms)'], df_tracks_sorted['Popularity'])\n",
                "\n",
                "\n",
                "plt.title(\"Relationship Between Song Duration and Popularity\")\n",
                "plt.xlabel(\"Duration (ms)\")\n",
                "plt.ylabel(\"Popularity\")\n",
                "plt.grid(True)\n",
                "\n",
                "\n",
                "plt.show()\n",
                "\n",
                "\n",
                "\n"
            ]
        }
    ],
    "metadata": {
        "kernelspec": {
            "display_name": "Python 3",
            "language": "python",
            "name": "python3"
        },
        "language_info": {
            "codemirror_mode": {
                "name": "ipython",
                "version": 3
            },
            "file_extension": ".py",
            "mimetype": "text/x-python",
            "name": "python",
            "nbconvert_exporter": "python",
            "pygments_lexer": "ipython3",
            "version": "3.11.4"
        },
        "orig_nbformat": 4
    },
    "nbformat": 4,
    "nbformat_minor": 2
}
