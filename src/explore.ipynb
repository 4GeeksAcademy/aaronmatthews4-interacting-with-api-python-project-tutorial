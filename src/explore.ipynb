{
    "cells": [
        {
            "cell_type": "markdown",
            "metadata": {},
            "source": [
                "# Explore here"
            ]
        },
        {
            "cell_type": "code",
            "execution_count": 5,
            "metadata": {},
            "outputs": [
                {
                    "data": {
                        "text/plain": [
                            "'724828ce5ceb4fcca2e21b33b864cbb3'"
                        ]
                    },
                    "execution_count": 5,
                    "metadata": {},
                    "output_type": "execute_result"
                }
            ],
            "source": [
                "import os\n",
                "import pandas as pd\n",
                "from dotenv import load_dotenv\n",
                "\n",
                "# pip install spotipy\n",
                "\n",
                "# load the .env file variables\n",
                "load_dotenv()\n",
                "\n",
                "from dotenv import load_dotenv\n",
                "load_dotenv()\n",
                "\n",
                "import os\n",
                "\n",
                "client_id = os.environ.get(\"CLIENT_ID\")\n",
                "client_secret = os.environ.get(\"CLIENT_SECRET\")\n",
                "\n",
                "client_id\n",
                "\n",
                "\n"
            ]
        },
        {
            "cell_type": "code",
            "execution_count": 9,
            "metadata": {},
            "outputs": [
                {
                    "name": "stdout",
                    "output_type": "stream",
                    "text": [
                        "Access token obtained!\n"
                    ]
                }
            ],
            "source": [
                "import base64\n",
                "import requests\n",
                "\n",
                "# Encode the client credentials\n",
                "client_credentials = f\"{client_id}:{client_secret}\"\n",
                "client_credentials_base64 = base64.b64encode(client_credentials.encode())\n",
                "\n",
                "# Prepare the token request\n",
                "token_url = \"https://accounts.spotify.com/api/token\"\n",
                "headers = {\n",
                "    \"Authorization\": f\"Basic {client_credentials_base64.decode()}\"\n",
                "}\n",
                "data = {\n",
                "    \"grant_type\": \"client_credentials\"\n",
                "}\n",
                "\n",
                "# Request access token\n",
                "response = requests.post(token_url, headers=headers, data=data)\n",
                "\n",
                "# Check if the request was successful\n",
                "if response.status_code == 200:\n",
                "    access_token = response.json()['access_token']\n",
                "    print(\"Access token obtained!\")\n",
                "else:\n",
                "    print(f\"Failed to obtain access token. Status code: {response.status_code}\")\n",
                "    print(response.text)"
            ]
        },
        {
            "cell_type": "code",
            "execution_count": 10,
            "metadata": {},
            "outputs": [
                {
                    "data": {
                        "text/plain": [
                            "'BQDqvetUfpSM-5ZDAjL-Gg3hh0AsSwFDKqQQoyAFikL7YBGMTBDkx16Rk-IsPjEPYdl-GnVtdPcRmsboW_RQWLxWgRpZfrJK2T2qifKSY0eFRGW4Sjc'"
                        ]
                    },
                    "execution_count": 10,
                    "metadata": {},
                    "output_type": "execute_result"
                }
            ],
            "source": [
                "#access_token"
            ]
        },
        {
            "cell_type": "code",
            "execution_count": 11,
            "metadata": {},
            "outputs": [
                {
                    "name": "stdout",
                    "output_type": "stream",
                    "text": [
                        "Found artist: Travis Scott (ID: 0Y5tJX1MQlPlqiwlOH1tJY)\n"
                    ]
                }
            ],
            "source": [
                "# Set the access token in the headers\n",
                "headers = {\n",
                "    \"Authorization\": f\"Bearer {access_token}\"\n",
                "}\n",
                "\n",
                "# Define the endpoint and parameters\n",
                "search_url = \"https://api.spotify.com/v1/search\"\n",
                "params = {\n",
                "    \"q\": \"Travis Scott\",  # Artist name to search for\n",
                "    \"type\": \"artist\",\n",
                "    \"limit\": 1\n",
                "}\n",
                "\n",
                "# Make the API request to search for the artist\n",
                "response = requests.get(search_url, headers=headers, params=params)\n",
                "\n",
                "# Check if the request was successful\n",
                "if response.status_code == 200:\n",
                "    response_data = response.json()\n",
                "    # print(f\"Response Data: {response_data}\")\n",
                "    artist_id = response_data['artists']['items'][0]['id']\n",
                "    artist_name = response_data['artists']['items'][0]['name']\n",
                "    print(f\"Found artist: {artist_name} (ID: {artist_id})\")\n",
                "else:\n",
                "    print(f\"Failed to search for artist. Status code: {response.status_code}\")\n",
                "    print(response.text)"
            ]
        },
        {
            "cell_type": "code",
            "execution_count": 12,
            "metadata": {},
            "outputs": [
                {
                    "name": "stdout",
                    "output_type": "stream",
                    "text": [
                        "Top tracks for Travis Scott:\n",
                        "1. FE!N (feat. Playboi Carti) - Album: UTOPIA\n",
                        "2. goosebumps - Album: Birds In The Trap Sing McKnight\n",
                        "3. HIGHEST IN THE ROOM - Album: HIGHEST IN THE ROOM\n",
                        "4. Type Shit - Album: WE DON'T TRUST YOU\n",
                        "5. BUTTERFLY EFFECT - Album: ASTROWORLD\n",
                        "6. Open Arms (feat. Travis Scott) - Album: SOS\n",
                        "7. I KNOW ? - Album: UTOPIA\n",
                        "8. MY EYES - Album: UTOPIA\n",
                        "9. Trance (with Travis Scott & Young Thug) - Album: HEROES & VILLAINS\n",
                        "10. SICKO MODE - Album: ASTROWORLD\n"
                    ]
                }
            ],
            "source": [
                "# Define the endpoint for the artist's top tracks\n",
                "top_tracks_url = f\"https://api.spotify.com/v1/artists/{artist_id}/top-tracks\"\n",
                "params = {\n",
                "    \"market\": \"US\"  # Specify the market (country)\n",
                "}\n",
                "\n",
                "# Make the API request to get top tracks\n",
                "response = requests.get(top_tracks_url, headers=headers, params=params)\n",
                "\n",
                "# Check if the request was successful\n",
                "if response.status_code == 200:\n",
                "    top_tracks_data = response.json()\n",
                "    print(f\"Top tracks for {artist_name}:\")\n",
                "    for idx, track in enumerate(top_tracks_data['tracks'], start=1):\n",
                "        # print(f\"Track data: {track}\")\n",
                "        track_name = track['name']\n",
                "        album_name = track['album']['name']\n",
                "        print(f\"{idx}. {track_name} - Album: {album_name}\")\n",
                "else:\n",
                "    print(f\"Failed to get top tracks. Status code: {response.status_code}\")\n",
                "    print(response.text)"
            ]
        },
        {
            "cell_type": "code",
            "execution_count": 13,
            "metadata": {},
            "outputs": [
                {
                    "name": "stdout",
                    "output_type": "stream",
                    "text": [
                        "Access token obtained successfully.\n"
                    ]
                }
            ],
            "source": [
                "def get_access_token(client_id, client_secret):\n",
                "    try:\n",
                "        # Encoding and token request as before\n",
                "        client_credentials = f\"{client_id}:{client_secret}\"\n",
                "        client_credentials_base64 = base64.b64encode(client_credentials.encode())\n",
                "        token_url = \"https://accounts.spotify.com/api/token\"\n",
                "        headers = {\n",
                "            \"Authorization\": f\"Basic {client_credentials_base64.decode()}\"\n",
                "        }\n",
                "        data = {\n",
                "            \"grant_type\": \"client_credentials\"\n",
                "        }\n",
                "        response = requests.post(token_url, headers=headers, data=data)\n",
                "        response.raise_for_status()  # Raises an HTTPError for bad status codes\n",
                "        access_token = response.json()['access_token']\n",
                "        return access_token\n",
                "    except requests.exceptions.HTTPError as err:\n",
                "        print(f\"HTTP error occurred: {err}\")\n",
                "    except Exception as err:\n",
                "        print(f\"An error occurred: {err}\")\n",
                "    return None\n",
                "\n",
                "# Use the function to get the access token\n",
                "access_token = get_access_token(client_id, client_secret)\n",
                "if access_token:\n",
                "    print(\"Access token obtained successfully.\")\n",
                "else:\n",
                "    print(\"Failed to obtain access token.\")"
            ]
        }
    ],
    "metadata": {
        "kernelspec": {
            "display_name": "Python 3",
            "language": "python",
            "name": "python3"
        },
        "language_info": {
            "codemirror_mode": {
                "name": "ipython",
                "version": 3
            },
            "file_extension": ".py",
            "mimetype": "text/x-python",
            "name": "python",
            "nbconvert_exporter": "python",
            "pygments_lexer": "ipython3",
            "version": "3.11.4"
        },
        "orig_nbformat": 4
    },
    "nbformat": 4,
    "nbformat_minor": 2
}
